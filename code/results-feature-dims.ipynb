{
 "cells": [
  {
   "cell_type": "code",
   "execution_count": 1,
   "metadata": {},
   "outputs": [],
   "source": [
    "import numpy as np\n",
    "import matplotlib.pyplot as plt\n",
    "\n",
    "from sklearn.decomposition import PCA\n",
    "from encoding import get_feature"
   ]
  },
  {
   "cell_type": "code",
   "execution_count": 2,
   "metadata": {},
   "outputs": [
    {
     "name": "stdout",
     "output_type": "stream",
     "text": [
      "/scratch/gpfs/zzada/narrative-gradients\n"
     ]
    }
   ],
   "source": [
    "%cd .."
   ]
  },
  {
   "cell_type": "code",
   "execution_count": 5,
   "metadata": {},
   "outputs": [],
   "source": [
    "narratives = ['black', 'forgot']\n",
    "models = ['acoustic', 'articulatory', 'syntactic', 'gemma2-9b', 'gemma2-9b']\n",
    "layers = [None, None, None, 0, 22]"
   ]
  },
  {
   "cell_type": "code",
   "execution_count": 6,
   "metadata": {},
   "outputs": [
    {
     "name": "stdout",
     "output_type": "stream",
     "text": [
      "black acoustic None 80 2\n",
      "black articulatory None 22 8\n",
      "black syntactic None 96 21\n",
      "black gemma2-9b 0 3584 157\n",
      "black gemma2-9b 22 3584 164\n",
      "forgot acoustic None 80 1\n",
      "forgot articulatory None 22 8\n",
      "forgot syntactic None 96 23\n",
      "forgot gemma2-9b 0 3584 193\n",
      "forgot gemma2-9b 22 3584 201\n"
     ]
    }
   ],
   "source": [
    "for narrative in narratives:\n",
    "    for model, layer in zip(models, layers):\n",
    "        X = get_feature(model, narrative=narrative, layer=layer)\n",
    "\n",
    "        pca = PCA().fit(X)\n",
    "        ninety = (pca.explained_variance_ratio_.cumsum() > 0.9).nonzero()[0][0]\n",
    "        print(narrative, model, layer, X.shape[-1], ninety)\n",
    "\n",
    "        # plt.plot(pca.explained_variance_ratio_)\n",
    "        # plt.title(f'{narrative} | {model}')\n",
    "        # plt.show()"
   ]
  },
  {
   "cell_type": "code",
   "execution_count": null,
   "metadata": {},
   "outputs": [],
   "source": []
  }
 ],
 "metadata": {
  "kernelspec": {
   "display_name": "fconv",
   "language": "python",
   "name": "python3"
  },
  "language_info": {
   "codemirror_mode": {
    "name": "ipython",
    "version": 3
   },
   "file_extension": ".py",
   "mimetype": "text/x-python",
   "name": "python",
   "nbconvert_exporter": "python",
   "pygments_lexer": "ipython3",
   "version": "3.11.5"
  }
 },
 "nbformat": 4,
 "nbformat_minor": 2
}
